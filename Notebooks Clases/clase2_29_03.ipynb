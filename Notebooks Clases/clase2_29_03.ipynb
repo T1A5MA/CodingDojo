{
  "nbformat": 4,
  "nbformat_minor": 0,
  "metadata": {
    "colab": {
      "name": "clase2 29.03.ipynb",
      "provenance": [],
      "authorship_tag": "ABX9TyPlg6rgGbtjOSULh30Sgtc3",
      "include_colab_link": true
    },
    "kernelspec": {
      "name": "python3",
      "display_name": "Python 3"
    },
    "language_info": {
      "name": "python"
    }
  },
  "cells": [
    {
      "cell_type": "markdown",
      "metadata": {
        "id": "view-in-github",
        "colab_type": "text"
      },
      "source": [
        "<a href=\"https://colab.research.google.com/github/T1A5MA/CodingDojo/blob/main/Notebooks%20Clases/clase2_29_03.ipynb\" target=\"_parent\"><img src=\"https://colab.research.google.com/assets/colab-badge.svg\" alt=\"Open In Colab\"/></a>"
      ]
    },
    {
      "cell_type": "markdown",
      "source": [
        "### Ejercicio 1"
      ],
      "metadata": {
        "id": "EPUOtmjSvvnN"
      }
    },
    {
      "cell_type": "code",
      "execution_count": null,
      "metadata": {
        "id": "Rx2xf7fcvrxX",
        "colab": {
          "base_uri": "https://localhost:8080/"
        },
        "outputId": "7c3fb42a-4f1e-406d-af50-62a6b8e90b97"
      },
      "outputs": [
        {
          "output_type": "stream",
          "name": "stdout",
          "text": [
            "Ingrese su nombre: matias\n",
            "Hola matias\n"
          ]
        }
      ],
      "source": [
        "nombre = input(\"Ingrese su nombre: \")\n",
        "print(\"Hola \"+nombre)"
      ]
    },
    {
      "cell_type": "code",
      "source": [
        "x = int(input(\"Ingrese un numero: \"))\n",
        "'''\n",
        "suma = 0\n",
        "for i in range(x+1):\n",
        "  suma+=i\n",
        "'''\n",
        "suma = x * (x+1) / 2\n",
        "\n",
        "print(suma)  "
      ],
      "metadata": {
        "colab": {
          "base_uri": "https://localhost:8080/"
        },
        "id": "moqXJCeh25IP",
        "outputId": "97458f16-514b-4f2b-cdf1-8ea755326f2d"
      },
      "execution_count": null,
      "outputs": [
        {
          "output_type": "stream",
          "name": "stdout",
          "text": [
            "Ingrese un numero: 3\n",
            "6.0\n"
          ]
        }
      ]
    },
    {
      "cell_type": "code",
      "source": [
        "pay = int(input(\"Ingrese el numero de Payasos: \"))\n",
        "mun = int(input(\"Ingrese el numero de Muñecas: \"))\n",
        "\n",
        "peso = pay * 112 + mun * 75\n",
        "\n",
        "print(f\"El peso del paquete es de {peso} gramos\")"
      ],
      "metadata": {
        "id": "IYiwx0fD3ro7",
        "colab": {
          "base_uri": "https://localhost:8080/"
        },
        "outputId": "2b3d98ce-62a9-462f-f0b1-022e1f4708e9"
      },
      "execution_count": null,
      "outputs": [
        {
          "output_type": "stream",
          "name": "stdout",
          "text": [
            "Ingrese el numero de Payasos: 10\n",
            "Ingrese el numero de Muñecas: 10\n",
            "El peso del paquete es de 1870 gramos\n"
          ]
        }
      ]
    },
    {
      "cell_type": "markdown",
      "source": [
        "Calcular el promedio de edad de personas mayores de 18 y menores de 18 para una muestra de 4 **personas**"
      ],
      "metadata": {
        "id": "agePBgEvAu34"
      }
    },
    {
      "cell_type": "code",
      "source": [
        "per1 = int(input(\"Ingrese la edad de la primera persona: \"))\n",
        "per2 = int(input(\"Ingrese la edad de la segunda persona: \"))\n",
        "per3 = int(input(\"Ingrese la edad de la tercera persona: \"))\n",
        "per4 = int(input(\"Ingrese la edad de la cuarta persona: \"))\n",
        "\n",
        "suma_sub = 0\n",
        "suma_18 = 0\n",
        "count_sub = 0\n",
        "count_18 = 0\n",
        "\n",
        "if per1 < 18:\n",
        "  suma_sub += per1\n",
        "  count_sub += 1\n",
        "else:\n",
        "  suma_18 += per1\n",
        "  count_18 += 1\n",
        "\n",
        "if per2 < 18:\n",
        "  suma_sub += per2\n",
        "  count_sub += 1\n",
        "else:\n",
        "  suma_18 += per2\n",
        "  count_18 += 1\n",
        "\n",
        "if per3 < 18:\n",
        "  suma_sub += per3\n",
        "  count_sub += 1\n",
        "else:\n",
        "  suma_18 += per3\n",
        "  count_18 += 1\n",
        "\n",
        "if per4 < 18:\n",
        "  suma_sub += per4\n",
        "  count_sub += 1\n",
        "else:\n",
        "  suma_18 += per4\n",
        "  count_18 += 1\n",
        "\n",
        "prom_sub = suma_sub / count_sub\n",
        "prom_18 = suma_18 / count_18\n",
        "\n",
        "print(f\"El promedio de edad de las personas mayores de 18 es {prom_18} y la de los menores de 18 es {prom_sub}\")"
      ],
      "metadata": {
        "colab": {
          "base_uri": "https://localhost:8080/"
        },
        "id": "AF0wCjfO9fl0",
        "outputId": "e93d353d-db02-4255-957b-45cb4fc398f8"
      },
      "execution_count": null,
      "outputs": [
        {
          "output_type": "stream",
          "name": "stdout",
          "text": [
            "Ingrese la edad de la primera persona: 10\n",
            "Ingrese la edad de la segunda persona: 31\n",
            "Ingrese la edad de la tercera persona: 20\n",
            "Ingrese la edad de la cuarta persona: 2\n",
            "El promedio de edad de las personas mayores de 18 es 25.5 y la de los menores de 18 es 6.0\n"
          ]
        }
      ]
    },
    {
      "cell_type": "code",
      "source": [
        "veg = [\"pimiento\", \"tofu\"]\n",
        "nonVeg = [\"pepperoni\", \"jamon\", \"salmon\"]\n",
        "\n",
        "print(\"Bienvenido a la Pizzeria\")\n",
        "tipo = int(input(\"Ingrese el tipo de pizza que quiere, 1 para Vegetariana y 2 para No Vegetariana: \"))\n",
        "\n",
        "if tipo == 1:\n",
        "  pizza = \"Vegetariana\"\n",
        "  print(\"Los ingredientes para la pizza vegetariana son los siguientes: \\n 1 - Pimiento \\n 2 - Tofu\")\n",
        "  ingNum = int(input(\"Ingrese el numero del ingrediente que desea: \"))\n",
        "\n",
        "  if ingNum == 1:\n",
        "    ing = \"Pimiento\"\n",
        "  elif ingNum == 2:\n",
        "    ing = \"Tofu\"\n",
        "  else:\n",
        "    \"No ha ingresado un valor correcto, favor volver a intentar\"\n",
        "elif tipo == 2:\n",
        "  pizza = \"No Vegetariana\"\n",
        "  print(\"Los ingredientes para la pizza vegetariana son los siguientes: \\n 1 - Pepperoni \\n 2 - Jamón \\n 3 - Salmón\")\n",
        "  ingNum = int(input(\"Ingrese el numero del ingrediente que desea: \"))\n",
        "\n",
        "  if ingNum == 1:\n",
        "    ing = \"Pepperoni\"\n",
        "  elif ingNum == 2:\n",
        "    ing = \"Jamón\"\n",
        "  elif ingNum == 3:\n",
        "    ing = \"Salmón\"\n",
        "  else:\n",
        "    \"No ha ingresado un valor correcto, favor volver a intentar\"\n",
        "\n",
        "if tipo == 1 or tipo == 2:\n",
        "  print(f\"Eligió una pizza {pizza} con los siguientes ingredientes: \\n - Mozzarela \\n - Tomate \\n - {ing}\")\n",
        "else:\n",
        "  print(\"No ha ingresado un valor correcto, favor volver a intentar\")"
      ],
      "metadata": {
        "colab": {
          "base_uri": "https://localhost:8080/"
        },
        "id": "PbJ6iY5kBgRH",
        "outputId": "46ff1281-ffed-4473-e9ab-1b2ec5906928"
      },
      "execution_count": null,
      "outputs": [
        {
          "output_type": "stream",
          "name": "stdout",
          "text": [
            "Bienvenido a la Pizzeria\n",
            "Ingrese el tipo de pizza que quiere, 1 para Vegetariana y 2 para No Vegetariana: 3\n",
            "No ha ingresado un valor correcto, favor volver a intentar\n"
          ]
        }
      ]
    },
    {
      "cell_type": "markdown",
      "source": [
        "Vamos a hacer una calculadora, primero va a recibir a los numeros a operar (variable1 y variable 2) esos numeros van a ser de tipo entero. Luego mediante un menu, con letras, vamos a seleccionar la operacion que se va a realizar, suma, resta, multiplicacion, division, modulo, porcentaje. (Ejemplo a=suma), al finalizar vamos a mostrar el resultado de la operación."
      ],
      "metadata": {
        "id": "9oF3-mONNFCS"
      }
    },
    {
      "cell_type": "code",
      "source": [
        "x = int(input(\"Ingrese primero numero: \"))\n",
        "y = int(input(\"Ingrese segundo numero: \"))\n",
        "print(\"Las operaciones que se pueden realizar son las siguientes: \\n - suma \\n - resta \\n - multiplicacion \\n - division \\n - modulo \\n - porcentaje\")\n",
        "tipo = input(\"Ingrese la operacion que desea realizar: \")\n",
        "\n",
        "if tipo.lower() == \"suma\":\n",
        "  print(f\"El resultado de la {tipo} es: {x + y}\")\n",
        "\n",
        "elif tipo.lower() == \"resta\":\n",
        "  print(f\"El resultado de la {tipo} es: {x - y}\")\n",
        "\n",
        "elif tipo.lower() == \"multiplicacion\":\n",
        "  print(f\"El resultado de la {tipo} es: {x * y}\")\n",
        "\n",
        "elif tipo.lower() == \"division\":\n",
        "  print(f\"El resultado de la {tipo} es: {x / y}\")\n",
        "  \n",
        "elif tipo.lower() == \"modulo\":\n",
        "  print(f\"El resultado del {tipo} es: {x % y}\")\n",
        "\n",
        "elif tipo.lower() == \"porcentaje\":\n",
        "  print(f\"El {tipo} de {x} sobre {y} es: {x / y * 100}%\")\n",
        "  \n",
        "else:\n",
        "  print(\"Favor ingresar el nombre de la operación tal cual como se ve en la lista.\")\n"
      ],
      "metadata": {
        "colab": {
          "base_uri": "https://localhost:8080/"
        },
        "id": "2cH6DzDEGUwz",
        "outputId": "ebd152f0-1613-4939-bb98-73ca955491a8"
      },
      "execution_count": null,
      "outputs": [
        {
          "output_type": "stream",
          "name": "stdout",
          "text": [
            "Ingrese primero numero: 10\n",
            "Ingrese segundo numero: 15\n",
            "Las operaciones que se pueden realizar son las siguientes: \n",
            " - suma \n",
            " - resta \n",
            " - multiplicacion \n",
            " - division \n",
            " - modulo \n",
            " - porcentaje\n",
            "Ingrese la operacion que desea realizar: modulo\n",
            "El resultado del modulo es: 10\n"
          ]
        }
      ]
    },
    {
      "cell_type": "markdown",
      "source": [
        "Vamos a hacer un programa que calcule volumen y area de elementos geometricos. Uds van a determinar los parametros de entrada y el menu va a ser de minimo 4 figuras geometricas"
      ],
      "metadata": {
        "id": "eF0MHHNUWXs1"
      }
    },
    {
      "cell_type": "code",
      "source": [
        "import numpy as np\n",
        "\n",
        "print(\"Escoja la figura que quiere utilizar \\n 1 - Rectangulo \\n 2 - Triangulo \\n 3 - Circulo \\n 4 - Paralelogramo \\n\")\n",
        "fig = int(input(\"Ingrese el numero de la figura: \"))\n",
        "print(\"\")\n",
        "\n",
        "if fig == 1:\n",
        "  figName = \"Rectangulo\"\n",
        "  a = int(input(\"Ingrese el primer lado: \"))\n",
        "  b = int(input(\"Ingrese el segundo lado: \"))\n",
        "\n",
        "  area = a * b\n",
        "  peri = 2*a + 2*b\n",
        "\n",
        "elif fig == 2:\n",
        "  figName = \"Triangulo\"\n",
        "  a = int(input(\"Ingrese la base del triangulo: \"))\n",
        "  b = int(input(\"Ingrese el segundo lado del triangulo: \"))\n",
        "  c = int(input(\"Ingrese el tercer lado del triangulo: \"))\n",
        "  h = int(input(\"Ingrese la altura del triangulo: \"))\n",
        "\n",
        "  area = a * b / 2\n",
        "  peri = a + b + c\n",
        "\n",
        "elif fig == 3:\n",
        "  figName = \"Circulo\"\n",
        "  r = int(input(\"Ingrese el radio: \"))\n",
        "  area = round(np.pi * pow(r, 2), 2)\n",
        "  peri = round(2 * np.pi * r, 2)\n",
        "\n",
        "elif fig == 4:\n",
        "  figName = \"Paralelogramo\"\n",
        "  a = int(input(\"Ingrese el primer lado del paralelogramo: \"))\n",
        "  b = int(input(\"Ingrese el segundo lado del paralelogramo: \"))\n",
        "  h = int(input(\"Ingrese la altura del trapecio: \"))\n",
        "\n",
        "  area = b * h\n",
        "  peri = 2 * (a + b)\n",
        "\n",
        "if fig == 1 or fig == 2 or fig == 3 or fig == 4:\n",
        "  print(f\"El área del {figName} es: {area} y el perimetro es {peri}\")\n",
        "else:\n",
        "  print(\"Favor ingrese un numero del menu\")\n",
        "\n"
      ],
      "metadata": {
        "colab": {
          "base_uri": "https://localhost:8080/"
        },
        "id": "9ObmsPBUQH-5",
        "outputId": "c8116d88-f74d-4973-d125-946da101112b"
      },
      "execution_count": null,
      "outputs": [
        {
          "output_type": "stream",
          "name": "stdout",
          "text": [
            "Escoja la figura que quiere utilizar \n",
            " 1 - Rectangulo \n",
            " 2 - Triangulo \n",
            " 3 - Circulo \n",
            " 4 - Paralelogramo \n",
            "\n",
            "Ingrese el numero de la figura: 3\n",
            "\n",
            "Ingrese el radio: 4\n",
            "El área del Circulo es: 50.27 y el perimetro es 25.13\n"
          ]
        }
      ]
    },
    {
      "cell_type": "code",
      "source": [
        ""
      ],
      "metadata": {
        "id": "ofh8vJkVW-US"
      },
      "execution_count": null,
      "outputs": []
    },
    {
      "cell_type": "code",
      "source": [
        ""
      ],
      "metadata": {
        "id": "R1K2nzQebWaF"
      },
      "execution_count": null,
      "outputs": []
    }
  ]
}