{
  "nbformat": 4,
  "nbformat_minor": 0,
  "metadata": {
    "colab": {
      "name": "clase1 28.03.ipynb",
      "provenance": [],
      "authorship_tag": "ABX9TyNOCAP+erEdlYu8Mrpmf3sk",
      "include_colab_link": true
    },
    "kernelspec": {
      "name": "python3",
      "display_name": "Python 3"
    },
    "language_info": {
      "name": "python"
    }
  },
  "cells": [
    {
      "cell_type": "markdown",
      "metadata": {
        "id": "view-in-github",
        "colab_type": "text"
      },
      "source": [
        "<a href=\"https://colab.research.google.com/github/T1A5MA/CodingDojo/blob/main/clase1_28_03.ipynb\" target=\"_parent\"><img src=\"https://colab.research.google.com/assets/colab-badge.svg\" alt=\"Open In Colab\"/></a>"
      ]
    },
    {
      "cell_type": "markdown",
      "source": [
        "### Actividad 0"
      ],
      "metadata": {
        "id": "G5pqeRNWOzwM"
      }
    },
    {
      "cell_type": "code",
      "execution_count": null,
      "metadata": {
        "colab": {
          "base_uri": "https://localhost:8080/"
        },
        "id": "EHMq5PDb2k13",
        "outputId": "a9bb6918-2699-4339-cc8d-eed5e509bfb1"
      },
      "outputs": [
        {
          "output_type": "stream",
          "name": "stdout",
          "text": [
            "Bienvenidos al Bootcamp futuros Data Scientists!\n"
          ]
        }
      ],
      "source": [
        "print(\"Bienvenidos al Bootcamp futuros Data Scientists!\")"
      ]
    },
    {
      "cell_type": "markdown",
      "source": [
        ""
      ],
      "metadata": {
        "id": "Gm6sWHNfDUTm"
      }
    },
    {
      "cell_type": "markdown",
      "source": [
        "### Actividad 1\n",
        "\n",
        "Imprimir si un numero es par o impar"
      ],
      "metadata": {
        "id": "dBlID7j2VmNl"
      }
    },
    {
      "cell_type": "code",
      "source": [
        "lista = [1, 2, 3, 4, 5, 6, 7, 8, 9]\n",
        "\n",
        "for i in lista:\n",
        "  if i % 2 == 0:\n",
        "    print(f\"El numero {i} es par\")\n",
        "  else:\n",
        "    print(f\"El numero {i} es impar\")\n"
      ],
      "metadata": {
        "colab": {
          "base_uri": "https://localhost:8080/"
        },
        "id": "eYBcnA3HO2jG",
        "outputId": "f6c559ad-51d5-48dc-d155-09eb00680e17"
      },
      "execution_count": null,
      "outputs": [
        {
          "output_type": "stream",
          "name": "stdout",
          "text": [
            "El numero 1 es impar\n",
            "El numero 2 es par\n",
            "El numero 3 es impar\n",
            "El numero 4 es par\n",
            "El numero 5 es impar\n",
            "El numero 6 es par\n",
            "El numero 7 es impar\n",
            "El numero 8 es par\n",
            "El numero 9 es impar\n"
          ]
        }
      ]
    }
  ]
}